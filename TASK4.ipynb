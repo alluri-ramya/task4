{
 "cells": [
  {
   "cell_type": "code",
   "execution_count": 2,
   "id": "d78f7c0e-ec3b-4319-a37f-48a66786ae23",
   "metadata": {},
   "outputs": [
    {
     "data": {
      "text/plain": [
       "<sqlite3.Cursor at 0x1a11402e2c0>"
      ]
     },
     "execution_count": 2,
     "metadata": {},
     "output_type": "execute_result"
    }
   ],
   "source": [
    "import sqlite3\n",
    "\n",
    "# Connect to SQLite database (or create one if it doesn't exist)\n",
    "conn = sqlite3.connect(\"ecommerce.db\")\n",
    "cursor = conn.cursor()\n",
    "\n",
    "# Create tables (Customers, Orders, Products)\n",
    "cursor.execute(\"\"\"\n",
    "    CREATE TABLE IF NOT EXISTS Customers (\n",
    "        CustomerID INTEGER PRIMARY KEY,\n",
    "        Name TEXT,\n",
    "        Email TEXT\n",
    "    );\n",
    "\"\"\")\n",
    "\n",
    "cursor.execute(\"\"\"\n",
    "    CREATE TABLE IF NOT EXISTS Orders (\n",
    "        OrderID INTEGER PRIMARY KEY,\n",
    "        CustomerID INTEGER,\n",
    "        OrderDate DATE,\n",
    "        TotalAmount REAL,\n",
    "        FOREIGN KEY(CustomerID) REFERENCES Customers(CustomerID)\n",
    "    );\n",
    "\"\"\")\n",
    "\n",
    "cursor.execute(\"\"\"\n",
    "    CREATE TABLE IF NOT EXISTS Products (\n",
    "        ProductID INTEGER PRIMARY KEY,\n",
    "        Name TEXT,\n",
    "        Price REAL,\n",
    "        Category TEXT\n",
    "    );\n",
    "\"\"\")"
   ]
  },
  {
   "cell_type": "code",
   "execution_count": 3,
   "id": "b6f47249-b1c7-4a29-87d2-1b2a61d53f75",
   "metadata": {},
   "outputs": [
    {
     "data": {
      "text/plain": [
       "<sqlite3.Cursor at 0x1a11402e2c0>"
      ]
     },
     "execution_count": 3,
     "metadata": {},
     "output_type": "execute_result"
    }
   ],
   "source": [
    "# Insert sample data into tables\n",
    "cursor.executemany(\"INSERT INTO Customers (Name, Email) VALUES (?, ?)\", [\n",
    "    (\"Alice\", \"alice@example.com\"),\n",
    "    (\"Bob\", \"bob@example.com\"),\n",
    "    (\"Charlie\", \"charlie@example.com\")\n",
    "])\n",
    "\n",
    "cursor.executemany(\"INSERT INTO Orders (CustomerID, OrderDate, TotalAmount) VALUES (?, ?, ?)\", [\n",
    "    (1, \"2025-02-10\", 250.50),\n",
    "    (2, \"2025-03-15\", 120.75),\n",
    "    (3, \"2025-01-05\", 600.30)\n",
    "])\n",
    "\n",
    "cursor.executemany(\"INSERT INTO Products (Name, Price, Category) VALUES (?, ?, ?)\", [\n",
    "    (\"Laptop\", 1000.00, \"Electronics\"),\n",
    "    (\"Phone\", 700.00, \"Electronics\"),\n",
    "    (\"Shoes\", 100.00, \"Fashion\"),\n",
    "    (\"T-shirt\", 30.00, \"Fashion\")\n",
    "])"
   ]
  },
  {
   "cell_type": "code",
   "execution_count": 4,
   "id": "8ea9b96e-2b0c-4af0-ac96-619e810b30b3",
   "metadata": {},
   "outputs": [
    {
     "name": "stdout",
     "output_type": "stream",
     "text": [
      "Customers: [(1, 'Alice', 'alice@example.com'), (2, 'Bob', 'bob@example.com'), (3, 'Charlie', 'charlie@example.com')]\n",
      "Recent Orders: [(1, 1, '2025-02-10', 250.5), (2, 2, '2025-03-15', 120.75), (3, 3, '2025-01-05', 600.3)]\n",
      "Products sorted by price: [(1, 'Laptop', 1000.0, 'Electronics'), (2, 'Phone', 700.0, 'Electronics'), (3, 'Shoes', 100.0, 'Fashion'), (4, 'T-shirt', 30.0, 'Fashion')]\n",
      "Products per category: [('Electronics', 2), ('Fashion', 2)]\n"
     ]
    }
   ],
   "source": [
    "# Select all customers\n",
    "cursor.execute(\"SELECT * FROM Customers;\")\n",
    "customers = cursor.fetchall()\n",
    "print(\"Customers:\", customers)\n",
    "\n",
    "# Orders after a certain date\n",
    "cursor.execute(\"SELECT * FROM Orders WHERE OrderDate >= '2025-01-01';\")\n",
    "orders = cursor.fetchall()\n",
    "print(\"Recent Orders:\", orders)\n",
    "\n",
    "# Products sorted by price (descending)\n",
    "cursor.execute(\"SELECT * FROM Products ORDER BY Price DESC;\")\n",
    "products = cursor.fetchall()\n",
    "print(\"Products sorted by price:\", products)\n",
    "\n",
    "# Grouping products by category\n",
    "cursor.execute(\"SELECT Category, COUNT(*) FROM Products GROUP BY Category;\")\n",
    "categories = cursor.fetchall()\n",
    "print(\"Products per category:\", categories)"
   ]
  },
  {
   "cell_type": "code",
   "execution_count": 5,
   "id": "e877eb39-3abc-44f3-a242-2754fd8ae954",
   "metadata": {},
   "outputs": [
    {
     "name": "stdout",
     "output_type": "stream",
     "text": [
      "Customer Orders: [('Alice', 1), ('Bob', 2), ('Charlie', 3)]\n",
      "Most expensive product: ('Laptop', 1000.0)\n",
      "Total Revenue: (971.55,)\n",
      "Average Order Value: (323.84999999999997,)\n"
     ]
    }
   ],
   "source": [
    "# INNER JOIN Customers & Orders\n",
    "cursor.execute(\"\"\"\n",
    "    SELECT Customers.Name, Orders.OrderID \n",
    "    FROM Customers \n",
    "    INNER JOIN Orders ON Customers.CustomerID = Orders.CustomerID;\n",
    "\"\"\")\n",
    "joined_data = cursor.fetchall()\n",
    "print(\"Customer Orders:\", joined_data)\n",
    "\n",
    "# Most expensive product using subquery\n",
    "cursor.execute(\"SELECT Name, Price FROM Products WHERE Price = (SELECT MAX(Price) FROM Products);\")\n",
    "expensive_product = cursor.fetchone()\n",
    "print(\"Most expensive product:\", expensive_product)\n",
    "\n",
    "# Total revenue & average order value\n",
    "cursor.execute(\"SELECT SUM(TotalAmount) FROM Orders;\")\n",
    "total_revenue = cursor.fetchone()\n",
    "print(\"Total Revenue:\", total_revenue)\n",
    "\n",
    "cursor.execute(\"SELECT AVG(TotalAmount) FROM Orders;\")\n",
    "avg_order_value = cursor.fetchone()\n",
    "print(\"Average Order Value:\", avg_order_value)"
   ]
  },
  {
   "cell_type": "code",
   "execution_count": 6,
   "id": "ff3ba028-6f55-4576-acd6-1975e5ac8b18",
   "metadata": {},
   "outputs": [
    {
     "name": "stdout",
     "output_type": "stream",
     "text": [
      "High Value Orders: [('Charlie', '2025-01-05', 600.3)]\n"
     ]
    },
    {
     "data": {
      "text/plain": [
       "<sqlite3.Cursor at 0x1a11402e2c0>"
      ]
     },
     "execution_count": 6,
     "metadata": {},
     "output_type": "execute_result"
    }
   ],
   "source": [
    "# Create a view for customer orders\n",
    "cursor.execute(\"\"\"\n",
    "    CREATE VIEW IF NOT EXISTS CustomerOrders AS \n",
    "    SELECT Customers.Name, Orders.OrderDate, Orders.TotalAmount \n",
    "    FROM Customers \n",
    "    INNER JOIN Orders ON Customers.CustomerID = Orders.CustomerID;\n",
    "\"\"\")\n",
    "\n",
    "# Query the view for high-value orders\n",
    "cursor.execute(\"SELECT * FROM CustomerOrders WHERE TotalAmount > 500;\")\n",
    "high_value_orders = cursor.fetchall()\n",
    "print(\"High Value Orders:\", high_value_orders)\n",
    "\n",
    "# Indexing for optimization\n",
    "cursor.execute(\"CREATE INDEX IF NOT EXISTS idx_CustomerID ON Orders (CustomerID);\")\n",
    "cursor.execute(\"CREATE INDEX IF NOT EXISTS idx_Category ON Products (Category);\")"
   ]
  },
  {
   "cell_type": "code",
   "execution_count": 9,
   "id": "25b987ea-c3db-4255-b1e2-de1fe807cdef",
   "metadata": {},
   "outputs": [],
   "source": [
    "# Commit changes and close connection\n",
    "#conn.commit()\n",
    "#conn.close()"
   ]
  },
  {
   "cell_type": "code",
   "execution_count": null,
   "id": "2c4d58d6-2ad2-4092-a065-6b4396755a2d",
   "metadata": {},
   "outputs": [],
   "source": []
  },
  {
   "cell_type": "code",
   "execution_count": null,
   "id": "b801518b-8b1b-4cc1-a619-c9c3c8000d2f",
   "metadata": {},
   "outputs": [],
   "source": []
  },
  {
   "cell_type": "code",
   "execution_count": null,
   "id": "ffa16686-4014-40ae-bf0e-d06502d84913",
   "metadata": {},
   "outputs": [],
   "source": []
  }
 ],
 "metadata": {
  "kernelspec": {
   "display_name": "Python 3 (ipykernel)",
   "language": "python",
   "name": "python3"
  },
  "language_info": {
   "codemirror_mode": {
    "name": "ipython",
    "version": 3
   },
   "file_extension": ".py",
   "mimetype": "text/x-python",
   "name": "python",
   "nbconvert_exporter": "python",
   "pygments_lexer": "ipython3",
   "version": "3.12.4"
  }
 },
 "nbformat": 4,
 "nbformat_minor": 5
}
